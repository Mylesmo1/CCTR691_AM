{
 "cells": [
  {
   "cell_type": "markdown",
   "id": "6f9e3576-f993-43cd-a7b5-e5411ad216de",
   "metadata": {},
   "source": [
    "Hello World Lab"
   ]
  },
  {
   "cell_type": "code",
   "execution_count": 3,
   "id": "59f54474-79d1-491b-88fe-a3c58a19e6c1",
   "metadata": {
    "tags": []
   },
   "outputs": [
    {
     "name": "stdout",
     "output_type": "stream",
     "text": [
      "Hello World\n"
     ]
    }
   ],
   "source": [
    "print (\"Hello World\")"
   ]
  }
 ],
 "metadata": {
  "kernelspec": {
   "display_name": "Python 3 (ipykernel)",
   "language": "python",
   "name": "python3"
  },
  "language_info": {
   "codemirror_mode": {
    "name": "ipython",
    "version": 3
   },
   "file_extension": ".py",
   "mimetype": "text/x-python",
   "name": "python",
   "nbconvert_exporter": "python",
   "pygments_lexer": "ipython3",
   "version": "3.11.5"
  }
 },
 "nbformat": 4,
 "nbformat_minor": 5
}
